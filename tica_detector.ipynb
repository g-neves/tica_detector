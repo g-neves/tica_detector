{
 "cells": [
  {
   "cell_type": "markdown",
   "metadata": {},
   "source": [
    "# 0. Setup"
   ]
  },
  {
   "cell_type": "markdown",
   "metadata": {},
   "source": [
    "We start by installing the first requirements"
   ]
  },
  {
   "cell_type": "code",
   "execution_count": 1,
   "metadata": {},
   "outputs": [
    {
     "name": "stdout",
     "output_type": "stream",
     "text": [
      "Requirement already satisfied: tensorflow in /home/dasneves/anaconda3/envs/tica_detector/lib/python3.8/site-packages (from -r requirements.txt (line 1)) (2.8.0)\n",
      "Requirement already satisfied: pillow in /home/dasneves/anaconda3/envs/tica_detector/lib/python3.8/site-packages (from -r requirements.txt (line 2)) (9.1.0)\n",
      "Requirement already satisfied: Cython in /home/dasneves/anaconda3/envs/tica_detector/lib/python3.8/site-packages (from -r requirements.txt (line 3)) (0.29.28)\n",
      "Requirement already satisfied: lxml in /home/dasneves/anaconda3/envs/tica_detector/lib/python3.8/site-packages (from -r requirements.txt (line 4)) (4.8.0)\n",
      "Requirement already satisfied: matplotlib in /home/dasneves/anaconda3/envs/tica_detector/lib/python3.8/site-packages (from -r requirements.txt (line 5)) (3.5.1)\n",
      "Requirement already satisfied: jupyter in /home/dasneves/anaconda3/envs/tica_detector/lib/python3.8/site-packages (from -r requirements.txt (line 7)) (1.0.0)\n",
      "Requirement already satisfied: libclang>=9.0.1 in /home/dasneves/anaconda3/envs/tica_detector/lib/python3.8/site-packages (from tensorflow->-r requirements.txt (line 1)) (14.0.1)\n",
      "Requirement already satisfied: keras<2.9,>=2.8.0rc0 in /home/dasneves/anaconda3/envs/tica_detector/lib/python3.8/site-packages (from tensorflow->-r requirements.txt (line 1)) (2.8.0)\n",
      "Requirement already satisfied: numpy>=1.20 in /home/dasneves/anaconda3/envs/tica_detector/lib/python3.8/site-packages (from tensorflow->-r requirements.txt (line 1)) (1.22.3)\n",
      "Requirement already satisfied: astunparse>=1.6.0 in /home/dasneves/anaconda3/envs/tica_detector/lib/python3.8/site-packages (from tensorflow->-r requirements.txt (line 1)) (1.6.3)\n",
      "Requirement already satisfied: tensorboard<2.9,>=2.8 in /home/dasneves/anaconda3/envs/tica_detector/lib/python3.8/site-packages (from tensorflow->-r requirements.txt (line 1)) (2.8.0)\n",
      "Requirement already satisfied: grpcio<2.0,>=1.24.3 in /home/dasneves/anaconda3/envs/tica_detector/lib/python3.8/site-packages (from tensorflow->-r requirements.txt (line 1)) (1.44.0)\n",
      "Requirement already satisfied: typing-extensions>=3.6.6 in /home/dasneves/anaconda3/envs/tica_detector/lib/python3.8/site-packages (from tensorflow->-r requirements.txt (line 1)) (4.2.0)\n",
      "Requirement already satisfied: absl-py>=0.4.0 in /home/dasneves/anaconda3/envs/tica_detector/lib/python3.8/site-packages (from tensorflow->-r requirements.txt (line 1)) (1.0.0)\n",
      "Requirement already satisfied: google-pasta>=0.1.1 in /home/dasneves/anaconda3/envs/tica_detector/lib/python3.8/site-packages (from tensorflow->-r requirements.txt (line 1)) (0.2.0)\n",
      "Requirement already satisfied: h5py>=2.9.0 in /home/dasneves/anaconda3/envs/tica_detector/lib/python3.8/site-packages (from tensorflow->-r requirements.txt (line 1)) (3.6.0)\n",
      "Requirement already satisfied: six>=1.12.0 in /home/dasneves/anaconda3/envs/tica_detector/lib/python3.8/site-packages (from tensorflow->-r requirements.txt (line 1)) (1.16.0)\n",
      "Requirement already satisfied: keras-preprocessing>=1.1.1 in /home/dasneves/anaconda3/envs/tica_detector/lib/python3.8/site-packages (from tensorflow->-r requirements.txt (line 1)) (1.1.2)\n",
      "Requirement already satisfied: protobuf>=3.9.2 in /home/dasneves/anaconda3/envs/tica_detector/lib/python3.8/site-packages (from tensorflow->-r requirements.txt (line 1)) (3.20.1)\n",
      "Requirement already satisfied: setuptools in /home/dasneves/anaconda3/envs/tica_detector/lib/python3.8/site-packages (from tensorflow->-r requirements.txt (line 1)) (61.2.0)\n",
      "Requirement already satisfied: termcolor>=1.1.0 in /home/dasneves/anaconda3/envs/tica_detector/lib/python3.8/site-packages (from tensorflow->-r requirements.txt (line 1)) (1.1.0)\n",
      "Requirement already satisfied: tensorflow-io-gcs-filesystem>=0.23.1 in /home/dasneves/anaconda3/envs/tica_detector/lib/python3.8/site-packages (from tensorflow->-r requirements.txt (line 1)) (0.25.0)\n",
      "Requirement already satisfied: flatbuffers>=1.12 in /home/dasneves/anaconda3/envs/tica_detector/lib/python3.8/site-packages (from tensorflow->-r requirements.txt (line 1)) (1.12)\n",
      "Requirement already satisfied: tf-estimator-nightly==2.8.0.dev2021122109 in /home/dasneves/anaconda3/envs/tica_detector/lib/python3.8/site-packages (from tensorflow->-r requirements.txt (line 1)) (2.8.0.dev2021122109)\n",
      "Requirement already satisfied: wrapt>=1.11.0 in /home/dasneves/anaconda3/envs/tica_detector/lib/python3.8/site-packages (from tensorflow->-r requirements.txt (line 1)) (1.14.0)\n",
      "Requirement already satisfied: gast>=0.2.1 in /home/dasneves/anaconda3/envs/tica_detector/lib/python3.8/site-packages (from tensorflow->-r requirements.txt (line 1)) (0.4.0)\n",
      "Requirement already satisfied: opt-einsum>=2.3.2 in /home/dasneves/anaconda3/envs/tica_detector/lib/python3.8/site-packages (from tensorflow->-r requirements.txt (line 1)) (3.3.0)\n",
      "Requirement already satisfied: fonttools>=4.22.0 in /home/dasneves/anaconda3/envs/tica_detector/lib/python3.8/site-packages (from matplotlib->-r requirements.txt (line 5)) (4.33.2)\n",
      "Requirement already satisfied: cycler>=0.10 in /home/dasneves/anaconda3/envs/tica_detector/lib/python3.8/site-packages (from matplotlib->-r requirements.txt (line 5)) (0.11.0)\n",
      "Requirement already satisfied: kiwisolver>=1.0.1 in /home/dasneves/anaconda3/envs/tica_detector/lib/python3.8/site-packages (from matplotlib->-r requirements.txt (line 5)) (1.4.2)\n",
      "Requirement already satisfied: packaging>=20.0 in /home/dasneves/anaconda3/envs/tica_detector/lib/python3.8/site-packages (from matplotlib->-r requirements.txt (line 5)) (21.3)\n",
      "Requirement already satisfied: pyparsing>=2.2.1 in /home/dasneves/anaconda3/envs/tica_detector/lib/python3.8/site-packages (from matplotlib->-r requirements.txt (line 5)) (2.4.7)\n",
      "Requirement already satisfied: python-dateutil>=2.7 in /home/dasneves/anaconda3/envs/tica_detector/lib/python3.8/site-packages (from matplotlib->-r requirements.txt (line 5)) (2.8.2)\n",
      "Requirement already satisfied: jupyter-console in /home/dasneves/anaconda3/envs/tica_detector/lib/python3.8/site-packages (from jupyter->-r requirements.txt (line 7)) (6.4.3)\n",
      "Requirement already satisfied: ipywidgets in /home/dasneves/anaconda3/envs/tica_detector/lib/python3.8/site-packages (from jupyter->-r requirements.txt (line 7)) (7.7.0)\n",
      "Requirement already satisfied: notebook in /home/dasneves/anaconda3/envs/tica_detector/lib/python3.8/site-packages (from jupyter->-r requirements.txt (line 7)) (6.4.11)\n",
      "Requirement already satisfied: nbconvert in /home/dasneves/anaconda3/envs/tica_detector/lib/python3.8/site-packages (from jupyter->-r requirements.txt (line 7)) (6.5.0)\n",
      "Requirement already satisfied: ipykernel in /home/dasneves/anaconda3/envs/tica_detector/lib/python3.8/site-packages (from jupyter->-r requirements.txt (line 7)) (6.13.0)\n",
      "Requirement already satisfied: qtconsole in /home/dasneves/anaconda3/envs/tica_detector/lib/python3.8/site-packages (from jupyter->-r requirements.txt (line 7)) (5.3.0)\n",
      "Requirement already satisfied: wheel<1.0,>=0.23.0 in /home/dasneves/anaconda3/envs/tica_detector/lib/python3.8/site-packages (from astunparse>=1.6.0->tensorflow->-r requirements.txt (line 1)) (0.37.1)\n",
      "Requirement already satisfied: tensorboard-plugin-wit>=1.6.0 in /home/dasneves/anaconda3/envs/tica_detector/lib/python3.8/site-packages (from tensorboard<2.9,>=2.8->tensorflow->-r requirements.txt (line 1)) (1.8.1)\n",
      "Requirement already satisfied: markdown>=2.6.8 in /home/dasneves/anaconda3/envs/tica_detector/lib/python3.8/site-packages (from tensorboard<2.9,>=2.8->tensorflow->-r requirements.txt (line 1)) (3.3.6)\n",
      "Requirement already satisfied: google-auth<3,>=1.6.3 in /home/dasneves/anaconda3/envs/tica_detector/lib/python3.8/site-packages (from tensorboard<2.9,>=2.8->tensorflow->-r requirements.txt (line 1)) (2.6.6)\n",
      "Requirement already satisfied: google-auth-oauthlib<0.5,>=0.4.1 in /home/dasneves/anaconda3/envs/tica_detector/lib/python3.8/site-packages (from tensorboard<2.9,>=2.8->tensorflow->-r requirements.txt (line 1)) (0.4.6)\n",
      "Requirement already satisfied: tensorboard-data-server<0.7.0,>=0.6.0 in /home/dasneves/anaconda3/envs/tica_detector/lib/python3.8/site-packages (from tensorboard<2.9,>=2.8->tensorflow->-r requirements.txt (line 1)) (0.6.1)\n",
      "Requirement already satisfied: requests<3,>=2.21.0 in /home/dasneves/anaconda3/envs/tica_detector/lib/python3.8/site-packages (from tensorboard<2.9,>=2.8->tensorflow->-r requirements.txt (line 1)) (2.27.1)\n",
      "Requirement already satisfied: werkzeug>=0.11.15 in /home/dasneves/anaconda3/envs/tica_detector/lib/python3.8/site-packages (from tensorboard<2.9,>=2.8->tensorflow->-r requirements.txt (line 1)) (2.1.1)\n",
      "Requirement already satisfied: cachetools<6.0,>=2.0.0 in /home/dasneves/anaconda3/envs/tica_detector/lib/python3.8/site-packages (from google-auth<3,>=1.6.3->tensorboard<2.9,>=2.8->tensorflow->-r requirements.txt (line 1)) (5.0.0)\n",
      "Requirement already satisfied: rsa<5,>=3.1.4 in /home/dasneves/anaconda3/envs/tica_detector/lib/python3.8/site-packages (from google-auth<3,>=1.6.3->tensorboard<2.9,>=2.8->tensorflow->-r requirements.txt (line 1)) (4.8)\n",
      "Requirement already satisfied: pyasn1-modules>=0.2.1 in /home/dasneves/anaconda3/envs/tica_detector/lib/python3.8/site-packages (from google-auth<3,>=1.6.3->tensorboard<2.9,>=2.8->tensorflow->-r requirements.txt (line 1)) (0.2.8)\n",
      "Requirement already satisfied: requests-oauthlib>=0.7.0 in /home/dasneves/anaconda3/envs/tica_detector/lib/python3.8/site-packages (from google-auth-oauthlib<0.5,>=0.4.1->tensorboard<2.9,>=2.8->tensorflow->-r requirements.txt (line 1)) (1.3.1)\n"
     ]
    },
    {
     "name": "stdout",
     "output_type": "stream",
     "text": [
      "Requirement already satisfied: importlib-metadata>=4.4 in /home/dasneves/anaconda3/envs/tica_detector/lib/python3.8/site-packages (from markdown>=2.6.8->tensorboard<2.9,>=2.8->tensorflow->-r requirements.txt (line 1)) (4.11.3)\n",
      "Requirement already satisfied: zipp>=0.5 in /home/dasneves/anaconda3/envs/tica_detector/lib/python3.8/site-packages (from importlib-metadata>=4.4->markdown>=2.6.8->tensorboard<2.9,>=2.8->tensorflow->-r requirements.txt (line 1)) (3.8.0)\n",
      "Requirement already satisfied: pyasn1<0.5.0,>=0.4.6 in /home/dasneves/anaconda3/envs/tica_detector/lib/python3.8/site-packages (from pyasn1-modules>=0.2.1->google-auth<3,>=1.6.3->tensorboard<2.9,>=2.8->tensorflow->-r requirements.txt (line 1)) (0.4.8)\n",
      "Requirement already satisfied: certifi>=2017.4.17 in /home/dasneves/anaconda3/envs/tica_detector/lib/python3.8/site-packages (from requests<3,>=2.21.0->tensorboard<2.9,>=2.8->tensorflow->-r requirements.txt (line 1)) (2021.10.8)\n",
      "Requirement already satisfied: urllib3<1.27,>=1.21.1 in /home/dasneves/anaconda3/envs/tica_detector/lib/python3.8/site-packages (from requests<3,>=2.21.0->tensorboard<2.9,>=2.8->tensorflow->-r requirements.txt (line 1)) (1.26.9)\n",
      "Requirement already satisfied: charset-normalizer~=2.0.0 in /home/dasneves/anaconda3/envs/tica_detector/lib/python3.8/site-packages (from requests<3,>=2.21.0->tensorboard<2.9,>=2.8->tensorflow->-r requirements.txt (line 1)) (2.0.12)\n",
      "Requirement already satisfied: idna<4,>=2.5 in /home/dasneves/anaconda3/envs/tica_detector/lib/python3.8/site-packages (from requests<3,>=2.21.0->tensorboard<2.9,>=2.8->tensorflow->-r requirements.txt (line 1)) (3.3)\n",
      "Requirement already satisfied: oauthlib>=3.0.0 in /home/dasneves/anaconda3/envs/tica_detector/lib/python3.8/site-packages (from requests-oauthlib>=0.7.0->google-auth-oauthlib<0.5,>=0.4.1->tensorboard<2.9,>=2.8->tensorflow->-r requirements.txt (line 1)) (3.2.0)\n",
      "Requirement already satisfied: psutil in /home/dasneves/anaconda3/envs/tica_detector/lib/python3.8/site-packages (from ipykernel->jupyter->-r requirements.txt (line 7)) (5.9.0)\n",
      "Requirement already satisfied: traitlets>=5.1.0 in /home/dasneves/anaconda3/envs/tica_detector/lib/python3.8/site-packages (from ipykernel->jupyter->-r requirements.txt (line 7)) (5.1.1)\n",
      "Requirement already satisfied: nest-asyncio in /home/dasneves/anaconda3/envs/tica_detector/lib/python3.8/site-packages (from ipykernel->jupyter->-r requirements.txt (line 7)) (1.5.5)\n",
      "Requirement already satisfied: jupyter-client>=6.1.12 in /home/dasneves/anaconda3/envs/tica_detector/lib/python3.8/site-packages (from ipykernel->jupyter->-r requirements.txt (line 7)) (7.3.0)\n",
      "Requirement already satisfied: tornado>=6.1 in /home/dasneves/anaconda3/envs/tica_detector/lib/python3.8/site-packages (from ipykernel->jupyter->-r requirements.txt (line 7)) (6.1)\n",
      "Requirement already satisfied: debugpy>=1.0 in /home/dasneves/anaconda3/envs/tica_detector/lib/python3.8/site-packages (from ipykernel->jupyter->-r requirements.txt (line 7)) (1.6.0)\n",
      "Requirement already satisfied: ipython>=7.23.1 in /home/dasneves/anaconda3/envs/tica_detector/lib/python3.8/site-packages (from ipykernel->jupyter->-r requirements.txt (line 7)) (8.2.0)\n",
      "Requirement already satisfied: matplotlib-inline>=0.1 in /home/dasneves/anaconda3/envs/tica_detector/lib/python3.8/site-packages (from ipykernel->jupyter->-r requirements.txt (line 7)) (0.1.3)\n",
      "Requirement already satisfied: jedi>=0.16 in /home/dasneves/anaconda3/envs/tica_detector/lib/python3.8/site-packages (from ipython>=7.23.1->ipykernel->jupyter->-r requirements.txt (line 7)) (0.18.1)\n",
      "Requirement already satisfied: backcall in /home/dasneves/anaconda3/envs/tica_detector/lib/python3.8/site-packages (from ipython>=7.23.1->ipykernel->jupyter->-r requirements.txt (line 7)) (0.2.0)\n",
      "Requirement already satisfied: decorator in /home/dasneves/anaconda3/envs/tica_detector/lib/python3.8/site-packages (from ipython>=7.23.1->ipykernel->jupyter->-r requirements.txt (line 7)) (5.1.1)\n",
      "Requirement already satisfied: stack-data in /home/dasneves/anaconda3/envs/tica_detector/lib/python3.8/site-packages (from ipython>=7.23.1->ipykernel->jupyter->-r requirements.txt (line 7)) (0.2.0)\n",
      "Requirement already satisfied: prompt-toolkit!=3.0.0,!=3.0.1,<3.1.0,>=2.0.0 in /home/dasneves/anaconda3/envs/tica_detector/lib/python3.8/site-packages (from ipython>=7.23.1->ipykernel->jupyter->-r requirements.txt (line 7)) (3.0.29)\n",
      "Requirement already satisfied: pickleshare in /home/dasneves/anaconda3/envs/tica_detector/lib/python3.8/site-packages (from ipython>=7.23.1->ipykernel->jupyter->-r requirements.txt (line 7)) (0.7.5)\n",
      "Requirement already satisfied: pexpect>4.3 in /home/dasneves/anaconda3/envs/tica_detector/lib/python3.8/site-packages (from ipython>=7.23.1->ipykernel->jupyter->-r requirements.txt (line 7)) (4.8.0)\n",
      "Requirement already satisfied: pygments>=2.4.0 in /home/dasneves/anaconda3/envs/tica_detector/lib/python3.8/site-packages (from ipython>=7.23.1->ipykernel->jupyter->-r requirements.txt (line 7)) (2.12.0)\n",
      "Requirement already satisfied: parso<0.9.0,>=0.8.0 in /home/dasneves/anaconda3/envs/tica_detector/lib/python3.8/site-packages (from jedi>=0.16->ipython>=7.23.1->ipykernel->jupyter->-r requirements.txt (line 7)) (0.8.3)\n",
      "Requirement already satisfied: jupyter-core>=4.9.2 in /home/dasneves/anaconda3/envs/tica_detector/lib/python3.8/site-packages (from jupyter-client>=6.1.12->ipykernel->jupyter->-r requirements.txt (line 7)) (4.10.0)\n",
      "Requirement already satisfied: entrypoints in /home/dasneves/anaconda3/envs/tica_detector/lib/python3.8/site-packages (from jupyter-client>=6.1.12->ipykernel->jupyter->-r requirements.txt (line 7)) (0.4)\n",
      "Requirement already satisfied: pyzmq>=22.3 in /home/dasneves/anaconda3/envs/tica_detector/lib/python3.8/site-packages (from jupyter-client>=6.1.12->ipykernel->jupyter->-r requirements.txt (line 7)) (22.3.0)\n",
      "Requirement already satisfied: ptyprocess>=0.5 in /home/dasneves/anaconda3/envs/tica_detector/lib/python3.8/site-packages (from pexpect>4.3->ipython>=7.23.1->ipykernel->jupyter->-r requirements.txt (line 7)) (0.7.0)\n",
      "Requirement already satisfied: wcwidth in /home/dasneves/anaconda3/envs/tica_detector/lib/python3.8/site-packages (from prompt-toolkit!=3.0.0,!=3.0.1,<3.1.0,>=2.0.0->ipython>=7.23.1->ipykernel->jupyter->-r requirements.txt (line 7)) (0.2.5)\n",
      "Requirement already satisfied: jupyterlab-widgets>=1.0.0 in /home/dasneves/anaconda3/envs/tica_detector/lib/python3.8/site-packages (from ipywidgets->jupyter->-r requirements.txt (line 7)) (1.1.0)\n",
      "Requirement already satisfied: widgetsnbextension~=3.6.0 in /home/dasneves/anaconda3/envs/tica_detector/lib/python3.8/site-packages (from ipywidgets->jupyter->-r requirements.txt (line 7)) (3.6.0)\n",
      "Requirement already satisfied: ipython-genutils~=0.2.0 in /home/dasneves/anaconda3/envs/tica_detector/lib/python3.8/site-packages (from ipywidgets->jupyter->-r requirements.txt (line 7)) (0.2.0)\n",
      "Requirement already satisfied: nbformat>=4.2.0 in /home/dasneves/anaconda3/envs/tica_detector/lib/python3.8/site-packages (from ipywidgets->jupyter->-r requirements.txt (line 7)) (5.3.0)\n",
      "Requirement already satisfied: fastjsonschema in /home/dasneves/anaconda3/envs/tica_detector/lib/python3.8/site-packages (from nbformat>=4.2.0->ipywidgets->jupyter->-r requirements.txt (line 7)) (2.15.3)\n",
      "Requirement already satisfied: jsonschema>=2.6 in /home/dasneves/anaconda3/envs/tica_detector/lib/python3.8/site-packages (from nbformat>=4.2.0->ipywidgets->jupyter->-r requirements.txt (line 7)) (4.4.0)\n",
      "Requirement already satisfied: pyrsistent!=0.17.0,!=0.17.1,!=0.17.2,>=0.14.0 in /home/dasneves/anaconda3/envs/tica_detector/lib/python3.8/site-packages (from jsonschema>=2.6->nbformat>=4.2.0->ipywidgets->jupyter->-r requirements.txt (line 7)) (0.18.1)\n",
      "Requirement already satisfied: attrs>=17.4.0 in /home/dasneves/anaconda3/envs/tica_detector/lib/python3.8/site-packages (from jsonschema>=2.6->nbformat>=4.2.0->ipywidgets->jupyter->-r requirements.txt (line 7)) (21.4.0)\n",
      "Requirement already satisfied: importlib-resources>=1.4.0 in /home/dasneves/anaconda3/envs/tica_detector/lib/python3.8/site-packages (from jsonschema>=2.6->nbformat>=4.2.0->ipywidgets->jupyter->-r requirements.txt (line 7)) (5.7.1)\n",
      "Requirement already satisfied: argon2-cffi in /home/dasneves/anaconda3/envs/tica_detector/lib/python3.8/site-packages (from notebook->jupyter->-r requirements.txt (line 7)) (21.3.0)\n",
      "Requirement already satisfied: prometheus-client in /home/dasneves/anaconda3/envs/tica_detector/lib/python3.8/site-packages (from notebook->jupyter->-r requirements.txt (line 7)) (0.14.1)\n",
      "Requirement already satisfied: Send2Trash>=1.8.0 in /home/dasneves/anaconda3/envs/tica_detector/lib/python3.8/site-packages (from notebook->jupyter->-r requirements.txt (line 7)) (1.8.0)\n",
      "Requirement already satisfied: jinja2 in /home/dasneves/anaconda3/envs/tica_detector/lib/python3.8/site-packages (from notebook->jupyter->-r requirements.txt (line 7)) (3.1.1)\n",
      "Requirement already satisfied: terminado>=0.8.3 in /home/dasneves/anaconda3/envs/tica_detector/lib/python3.8/site-packages (from notebook->jupyter->-r requirements.txt (line 7)) (0.13.3)\n"
     ]
    },
    {
     "name": "stdout",
     "output_type": "stream",
     "text": [
      "Requirement already satisfied: nbclient>=0.5.0 in /home/dasneves/anaconda3/envs/tica_detector/lib/python3.8/site-packages (from nbconvert->jupyter->-r requirements.txt (line 7)) (0.6.0)\n",
      "Requirement already satisfied: tinycss2 in /home/dasneves/anaconda3/envs/tica_detector/lib/python3.8/site-packages (from nbconvert->jupyter->-r requirements.txt (line 7)) (1.1.1)\n",
      "Requirement already satisfied: jupyterlab-pygments in /home/dasneves/anaconda3/envs/tica_detector/lib/python3.8/site-packages (from nbconvert->jupyter->-r requirements.txt (line 7)) (0.2.2)\n",
      "Requirement already satisfied: defusedxml in /home/dasneves/anaconda3/envs/tica_detector/lib/python3.8/site-packages (from nbconvert->jupyter->-r requirements.txt (line 7)) (0.7.1)\n",
      "Requirement already satisfied: bleach in /home/dasneves/anaconda3/envs/tica_detector/lib/python3.8/site-packages (from nbconvert->jupyter->-r requirements.txt (line 7)) (5.0.0)\n",
      "Requirement already satisfied: MarkupSafe>=2.0 in /home/dasneves/anaconda3/envs/tica_detector/lib/python3.8/site-packages (from nbconvert->jupyter->-r requirements.txt (line 7)) (2.1.1)\n",
      "Requirement already satisfied: mistune<2,>=0.8.1 in /home/dasneves/anaconda3/envs/tica_detector/lib/python3.8/site-packages (from nbconvert->jupyter->-r requirements.txt (line 7)) (0.8.4)\n",
      "Requirement already satisfied: pandocfilters>=1.4.1 in /home/dasneves/anaconda3/envs/tica_detector/lib/python3.8/site-packages (from nbconvert->jupyter->-r requirements.txt (line 7)) (1.5.0)\n",
      "Requirement already satisfied: beautifulsoup4 in /home/dasneves/anaconda3/envs/tica_detector/lib/python3.8/site-packages (from nbconvert->jupyter->-r requirements.txt (line 7)) (4.11.1)\n",
      "Requirement already satisfied: argon2-cffi-bindings in /home/dasneves/anaconda3/envs/tica_detector/lib/python3.8/site-packages (from argon2-cffi->notebook->jupyter->-r requirements.txt (line 7)) (21.2.0)\n",
      "Requirement already satisfied: cffi>=1.0.1 in /home/dasneves/anaconda3/envs/tica_detector/lib/python3.8/site-packages (from argon2-cffi-bindings->argon2-cffi->notebook->jupyter->-r requirements.txt (line 7)) (1.15.0)\n",
      "Requirement already satisfied: pycparser in /home/dasneves/anaconda3/envs/tica_detector/lib/python3.8/site-packages (from cffi>=1.0.1->argon2-cffi-bindings->argon2-cffi->notebook->jupyter->-r requirements.txt (line 7)) (2.21)\n",
      "Requirement already satisfied: soupsieve>1.2 in /home/dasneves/anaconda3/envs/tica_detector/lib/python3.8/site-packages (from beautifulsoup4->nbconvert->jupyter->-r requirements.txt (line 7)) (2.3.2.post1)\n",
      "Requirement already satisfied: webencodings in /home/dasneves/anaconda3/envs/tica_detector/lib/python3.8/site-packages (from bleach->nbconvert->jupyter->-r requirements.txt (line 7)) (0.5.1)\n",
      "Requirement already satisfied: qtpy>=2.0.1 in /home/dasneves/anaconda3/envs/tica_detector/lib/python3.8/site-packages (from qtconsole->jupyter->-r requirements.txt (line 7)) (2.0.1)\n",
      "Requirement already satisfied: asttokens in /home/dasneves/anaconda3/envs/tica_detector/lib/python3.8/site-packages (from stack-data->ipython>=7.23.1->ipykernel->jupyter->-r requirements.txt (line 7)) (2.0.5)\n",
      "Requirement already satisfied: pure-eval in /home/dasneves/anaconda3/envs/tica_detector/lib/python3.8/site-packages (from stack-data->ipython>=7.23.1->ipykernel->jupyter->-r requirements.txt (line 7)) (0.2.2)\n",
      "Requirement already satisfied: executing in /home/dasneves/anaconda3/envs/tica_detector/lib/python3.8/site-packages (from stack-data->ipython>=7.23.1->ipykernel->jupyter->-r requirements.txt (line 7)) (0.8.3)\n"
     ]
    }
   ],
   "source": [
    "# Installing the requirements\n",
    "!pip install -r requirements.txt"
   ]
  },
  {
   "cell_type": "markdown",
   "metadata": {},
   "source": [
    "Now, you need to clone the models repository to the root path (which is the one where this script should be)."
   ]
  },
  {
   "cell_type": "code",
   "execution_count": 2,
   "metadata": {},
   "outputs": [],
   "source": [
    "import os\n",
    "\n",
    "# Cloning the models directory for transfer learning\n",
    "if not os.path.isdir('./models'):\n",
    "    !git clone https://github.com/tensorflow/models.git"
   ]
  },
  {
   "cell_type": "markdown",
   "metadata": {},
   "source": [
    "Now, one should install ```protoc```. For details, see https://google.github.io/proto-lens/installing-protoc.html.\n",
    "Alternatively, one can execute the cmd ```source protoc_install.txt```\n",
    "\n",
    "Every time you start a new terminal window to work with the pre-trained models, it is important to compile Protobuf and change your ```PYTHONPATH```."
   ]
  },
  {
   "cell_type": "code",
   "execution_count": 3,
   "metadata": {},
   "outputs": [
    {
     "name": "stdout",
     "output_type": "stream",
     "text": [
      "Processing /home/dasneves/Documents/python/tica_detector/models/research\n"
     ]
    },
    {
     "name": "stderr",
     "output_type": "stream",
     "text": [
      "  DEPRECATION: A future pip version will change local packages to be built in-place without first copying to a temporary directory. We recommend you use --use-feature=in-tree-build to test your packages with this new behavior before it becomes the default.\n",
      "   pip 21.3 will remove support for this functionality. You can find discussion regarding this at https://github.com/pypa/pip/issues/7555.\n"
     ]
    },
    {
     "name": "stdout",
     "output_type": "stream",
     "text": [
      "Requirement already satisfied: avro-python3 in /home/dasneves/anaconda3/envs/tica_detector/lib/python3.8/site-packages (from object-detection==0.1) (1.10.2)\n",
      "Requirement already satisfied: apache-beam in /home/dasneves/anaconda3/envs/tica_detector/lib/python3.8/site-packages (from object-detection==0.1) (2.38.0)\n",
      "Requirement already satisfied: pillow in /home/dasneves/anaconda3/envs/tica_detector/lib/python3.8/site-packages (from object-detection==0.1) (9.1.0)\n",
      "Requirement already satisfied: lxml in /home/dasneves/anaconda3/envs/tica_detector/lib/python3.8/site-packages (from object-detection==0.1) (4.8.0)\n",
      "Requirement already satisfied: matplotlib in /home/dasneves/anaconda3/envs/tica_detector/lib/python3.8/site-packages (from object-detection==0.1) (3.5.1)\n",
      "Requirement already satisfied: Cython in /home/dasneves/anaconda3/envs/tica_detector/lib/python3.8/site-packages (from object-detection==0.1) (0.29.28)\n",
      "Requirement already satisfied: contextlib2 in /home/dasneves/anaconda3/envs/tica_detector/lib/python3.8/site-packages (from object-detection==0.1) (21.6.0)\n",
      "Requirement already satisfied: tf-slim in /home/dasneves/anaconda3/envs/tica_detector/lib/python3.8/site-packages (from object-detection==0.1) (1.1.0)\n",
      "Requirement already satisfied: six in /home/dasneves/anaconda3/envs/tica_detector/lib/python3.8/site-packages (from object-detection==0.1) (1.16.0)\n",
      "Requirement already satisfied: pycocotools in /home/dasneves/anaconda3/envs/tica_detector/lib/python3.8/site-packages (from object-detection==0.1) (2.0.4)\n",
      "Requirement already satisfied: lvis in /home/dasneves/anaconda3/envs/tica_detector/lib/python3.8/site-packages (from object-detection==0.1) (0.5.3)\n",
      "Requirement already satisfied: scipy in /home/dasneves/anaconda3/envs/tica_detector/lib/python3.8/site-packages (from object-detection==0.1) (1.8.0)\n",
      "Requirement already satisfied: pandas in /home/dasneves/anaconda3/envs/tica_detector/lib/python3.8/site-packages (from object-detection==0.1) (1.4.2)\n",
      "Requirement already satisfied: tf-models-official>=2.5.1 in /home/dasneves/anaconda3/envs/tica_detector/lib/python3.8/site-packages (from object-detection==0.1) (2.8.0)\n",
      "Requirement already satisfied: tensorflow_io in /home/dasneves/anaconda3/envs/tica_detector/lib/python3.8/site-packages (from object-detection==0.1) (0.25.0)\n",
      "Requirement already satisfied: keras in /home/dasneves/anaconda3/envs/tica_detector/lib/python3.8/site-packages (from object-detection==0.1) (2.8.0)\n",
      "Requirement already satisfied: google-api-python-client>=1.6.7 in /home/dasneves/anaconda3/envs/tica_detector/lib/python3.8/site-packages (from tf-models-official>=2.5.1->object-detection==0.1) (2.45.0)\n",
      "Requirement already satisfied: tensorflow-addons in /home/dasneves/anaconda3/envs/tica_detector/lib/python3.8/site-packages (from tf-models-official>=2.5.1->object-detection==0.1) (0.16.1)\n",
      "Requirement already satisfied: tensorflow-hub>=0.6.0 in /home/dasneves/anaconda3/envs/tica_detector/lib/python3.8/site-packages (from tf-models-official>=2.5.1->object-detection==0.1) (0.12.0)\n",
      "Requirement already satisfied: gin-config in /home/dasneves/anaconda3/envs/tica_detector/lib/python3.8/site-packages (from tf-models-official>=2.5.1->object-detection==0.1) (0.5.0)\n",
      "Requirement already satisfied: oauth2client in /home/dasneves/anaconda3/envs/tica_detector/lib/python3.8/site-packages (from tf-models-official>=2.5.1->object-detection==0.1) (4.1.3)\n",
      "Requirement already satisfied: kaggle>=1.3.9 in /home/dasneves/anaconda3/envs/tica_detector/lib/python3.8/site-packages (from tf-models-official>=2.5.1->object-detection==0.1) (1.5.12)\n",
      "Requirement already satisfied: sentencepiece in /home/dasneves/anaconda3/envs/tica_detector/lib/python3.8/site-packages (from tf-models-official>=2.5.1->object-detection==0.1) (0.1.96)\n",
      "Requirement already satisfied: numpy>=1.15.4 in /home/dasneves/anaconda3/envs/tica_detector/lib/python3.8/site-packages (from tf-models-official>=2.5.1->object-detection==0.1) (1.22.3)\n",
      "Requirement already satisfied: sacrebleu in /home/dasneves/anaconda3/envs/tica_detector/lib/python3.8/site-packages (from tf-models-official>=2.5.1->object-detection==0.1) (2.0.0)\n",
      "Requirement already satisfied: opencv-python-headless in /home/dasneves/anaconda3/envs/tica_detector/lib/python3.8/site-packages (from tf-models-official>=2.5.1->object-detection==0.1) (4.5.5.64)\n",
      "Requirement already satisfied: tensorflow-text~=2.8.0 in /home/dasneves/anaconda3/envs/tica_detector/lib/python3.8/site-packages (from tf-models-official>=2.5.1->object-detection==0.1) (2.8.2)\n",
      "Requirement already satisfied: psutil>=5.4.3 in /home/dasneves/anaconda3/envs/tica_detector/lib/python3.8/site-packages (from tf-models-official>=2.5.1->object-detection==0.1) (5.9.0)\n",
      "Requirement already satisfied: seqeval in /home/dasneves/anaconda3/envs/tica_detector/lib/python3.8/site-packages (from tf-models-official>=2.5.1->object-detection==0.1) (1.2.2)\n",
      "Requirement already satisfied: tensorflow-model-optimization>=0.4.1 in /home/dasneves/anaconda3/envs/tica_detector/lib/python3.8/site-packages (from tf-models-official>=2.5.1->object-detection==0.1) (0.7.2)\n",
      "Requirement already satisfied: tensorflow-datasets in /home/dasneves/anaconda3/envs/tica_detector/lib/python3.8/site-packages (from tf-models-official>=2.5.1->object-detection==0.1) (4.5.2)\n",
      "Requirement already satisfied: tensorflow~=2.8.0 in /home/dasneves/anaconda3/envs/tica_detector/lib/python3.8/site-packages (from tf-models-official>=2.5.1->object-detection==0.1) (2.8.0)\n",
      "Requirement already satisfied: py-cpuinfo>=3.3.0 in /home/dasneves/anaconda3/envs/tica_detector/lib/python3.8/site-packages (from tf-models-official>=2.5.1->object-detection==0.1) (8.0.0)\n",
      "Requirement already satisfied: pyyaml<6.0,>=5.1 in /home/dasneves/anaconda3/envs/tica_detector/lib/python3.8/site-packages (from tf-models-official>=2.5.1->object-detection==0.1) (5.4.1)\n",
      "Requirement already satisfied: uritemplate<5,>=3.0.1 in /home/dasneves/anaconda3/envs/tica_detector/lib/python3.8/site-packages (from google-api-python-client>=1.6.7->tf-models-official>=2.5.1->object-detection==0.1) (4.1.1)\n",
      "Requirement already satisfied: httplib2<1dev,>=0.15.0 in /home/dasneves/anaconda3/envs/tica_detector/lib/python3.8/site-packages (from google-api-python-client>=1.6.7->tf-models-official>=2.5.1->object-detection==0.1) (0.19.1)\n",
      "Requirement already satisfied: google-auth-httplib2>=0.1.0 in /home/dasneves/anaconda3/envs/tica_detector/lib/python3.8/site-packages (from google-api-python-client>=1.6.7->tf-models-official>=2.5.1->object-detection==0.1) (0.1.0)\n",
      "Requirement already satisfied: google-api-core!=2.0.*,!=2.1.*,!=2.2.*,!=2.3.0,<3.0.0dev,>=1.31.5 in /home/dasneves/anaconda3/envs/tica_detector/lib/python3.8/site-packages (from google-api-python-client>=1.6.7->tf-models-official>=2.5.1->object-detection==0.1) (2.7.2)\n",
      "Requirement already satisfied: google-auth<3.0.0dev,>=1.16.0 in /home/dasneves/anaconda3/envs/tica_detector/lib/python3.8/site-packages (from google-api-python-client>=1.6.7->tf-models-official>=2.5.1->object-detection==0.1) (2.6.6)\n",
      "Requirement already satisfied: requests<3.0.0dev,>=2.18.0 in /home/dasneves/anaconda3/envs/tica_detector/lib/python3.8/site-packages (from google-api-core!=2.0.*,!=2.1.*,!=2.2.*,!=2.3.0,<3.0.0dev,>=1.31.5->google-api-python-client>=1.6.7->tf-models-official>=2.5.1->object-detection==0.1) (2.27.1)\n",
      "Requirement already satisfied: googleapis-common-protos<2.0dev,>=1.52.0 in /home/dasneves/anaconda3/envs/tica_detector/lib/python3.8/site-packages (from google-api-core!=2.0.*,!=2.1.*,!=2.2.*,!=2.3.0,<3.0.0dev,>=1.31.5->google-api-python-client>=1.6.7->tf-models-official>=2.5.1->object-detection==0.1) (1.56.0)\n",
      "Requirement already satisfied: protobuf>=3.12.0 in /home/dasneves/anaconda3/envs/tica_detector/lib/python3.8/site-packages (from google-api-core!=2.0.*,!=2.1.*,!=2.2.*,!=2.3.0,<3.0.0dev,>=1.31.5->google-api-python-client>=1.6.7->tf-models-official>=2.5.1->object-detection==0.1) (3.20.1)\n",
      "Requirement already satisfied: cachetools<6.0,>=2.0.0 in /home/dasneves/anaconda3/envs/tica_detector/lib/python3.8/site-packages (from google-auth<3.0.0dev,>=1.16.0->google-api-python-client>=1.6.7->tf-models-official>=2.5.1->object-detection==0.1) (5.0.0)\n",
      "Requirement already satisfied: pyasn1-modules>=0.2.1 in /home/dasneves/anaconda3/envs/tica_detector/lib/python3.8/site-packages (from google-auth<3.0.0dev,>=1.16.0->google-api-python-client>=1.6.7->tf-models-official>=2.5.1->object-detection==0.1) (0.2.8)\n"
     ]
    },
    {
     "name": "stdout",
     "output_type": "stream",
     "text": [
      "Requirement already satisfied: rsa<5,>=3.1.4 in /home/dasneves/anaconda3/envs/tica_detector/lib/python3.8/site-packages (from google-auth<3.0.0dev,>=1.16.0->google-api-python-client>=1.6.7->tf-models-official>=2.5.1->object-detection==0.1) (4.8)\n",
      "Requirement already satisfied: pyparsing<3,>=2.4.2 in /home/dasneves/anaconda3/envs/tica_detector/lib/python3.8/site-packages (from httplib2<1dev,>=0.15.0->google-api-python-client>=1.6.7->tf-models-official>=2.5.1->object-detection==0.1) (2.4.7)\n",
      "Requirement already satisfied: tqdm in /home/dasneves/anaconda3/envs/tica_detector/lib/python3.8/site-packages (from kaggle>=1.3.9->tf-models-official>=2.5.1->object-detection==0.1) (4.64.0)\n",
      "Requirement already satisfied: python-slugify in /home/dasneves/anaconda3/envs/tica_detector/lib/python3.8/site-packages (from kaggle>=1.3.9->tf-models-official>=2.5.1->object-detection==0.1) (6.1.1)\n",
      "Requirement already satisfied: python-dateutil in /home/dasneves/anaconda3/envs/tica_detector/lib/python3.8/site-packages (from kaggle>=1.3.9->tf-models-official>=2.5.1->object-detection==0.1) (2.8.2)\n",
      "Requirement already satisfied: urllib3 in /home/dasneves/anaconda3/envs/tica_detector/lib/python3.8/site-packages (from kaggle>=1.3.9->tf-models-official>=2.5.1->object-detection==0.1) (1.26.9)\n",
      "Requirement already satisfied: certifi in /home/dasneves/anaconda3/envs/tica_detector/lib/python3.8/site-packages (from kaggle>=1.3.9->tf-models-official>=2.5.1->object-detection==0.1) (2021.10.8)\n",
      "Requirement already satisfied: pytz>=2020.1 in /home/dasneves/anaconda3/envs/tica_detector/lib/python3.8/site-packages (from pandas->object-detection==0.1) (2022.1)\n",
      "Requirement already satisfied: pyasn1<0.5.0,>=0.4.6 in /home/dasneves/anaconda3/envs/tica_detector/lib/python3.8/site-packages (from pyasn1-modules>=0.2.1->google-auth<3.0.0dev,>=1.16.0->google-api-python-client>=1.6.7->tf-models-official>=2.5.1->object-detection==0.1) (0.4.8)\n",
      "Requirement already satisfied: idna<4,>=2.5 in /home/dasneves/anaconda3/envs/tica_detector/lib/python3.8/site-packages (from requests<3.0.0dev,>=2.18.0->google-api-core!=2.0.*,!=2.1.*,!=2.2.*,!=2.3.0,<3.0.0dev,>=1.31.5->google-api-python-client>=1.6.7->tf-models-official>=2.5.1->object-detection==0.1) (3.3)\n",
      "Requirement already satisfied: charset-normalizer~=2.0.0 in /home/dasneves/anaconda3/envs/tica_detector/lib/python3.8/site-packages (from requests<3.0.0dev,>=2.18.0->google-api-core!=2.0.*,!=2.1.*,!=2.2.*,!=2.3.0,<3.0.0dev,>=1.31.5->google-api-python-client>=1.6.7->tf-models-official>=2.5.1->object-detection==0.1) (2.0.12)\n",
      "Requirement already satisfied: astunparse>=1.6.0 in /home/dasneves/anaconda3/envs/tica_detector/lib/python3.8/site-packages (from tensorflow~=2.8.0->tf-models-official>=2.5.1->object-detection==0.1) (1.6.3)\n",
      "Requirement already satisfied: h5py>=2.9.0 in /home/dasneves/anaconda3/envs/tica_detector/lib/python3.8/site-packages (from tensorflow~=2.8.0->tf-models-official>=2.5.1->object-detection==0.1) (3.6.0)\n",
      "Requirement already satisfied: tf-estimator-nightly==2.8.0.dev2021122109 in /home/dasneves/anaconda3/envs/tica_detector/lib/python3.8/site-packages (from tensorflow~=2.8.0->tf-models-official>=2.5.1->object-detection==0.1) (2.8.0.dev2021122109)\n",
      "Requirement already satisfied: keras-preprocessing>=1.1.1 in /home/dasneves/anaconda3/envs/tica_detector/lib/python3.8/site-packages (from tensorflow~=2.8.0->tf-models-official>=2.5.1->object-detection==0.1) (1.1.2)\n",
      "Requirement already satisfied: termcolor>=1.1.0 in /home/dasneves/anaconda3/envs/tica_detector/lib/python3.8/site-packages (from tensorflow~=2.8.0->tf-models-official>=2.5.1->object-detection==0.1) (1.1.0)\n",
      "Requirement already satisfied: setuptools in /home/dasneves/anaconda3/envs/tica_detector/lib/python3.8/site-packages (from tensorflow~=2.8.0->tf-models-official>=2.5.1->object-detection==0.1) (61.2.0)\n",
      "Requirement already satisfied: typing-extensions>=3.6.6 in /home/dasneves/anaconda3/envs/tica_detector/lib/python3.8/site-packages (from tensorflow~=2.8.0->tf-models-official>=2.5.1->object-detection==0.1) (4.2.0)\n",
      "Requirement already satisfied: absl-py>=0.4.0 in /home/dasneves/anaconda3/envs/tica_detector/lib/python3.8/site-packages (from tensorflow~=2.8.0->tf-models-official>=2.5.1->object-detection==0.1) (1.0.0)\n",
      "Requirement already satisfied: google-pasta>=0.1.1 in /home/dasneves/anaconda3/envs/tica_detector/lib/python3.8/site-packages (from tensorflow~=2.8.0->tf-models-official>=2.5.1->object-detection==0.1) (0.2.0)\n",
      "Requirement already satisfied: opt-einsum>=2.3.2 in /home/dasneves/anaconda3/envs/tica_detector/lib/python3.8/site-packages (from tensorflow~=2.8.0->tf-models-official>=2.5.1->object-detection==0.1) (3.3.0)\n",
      "Requirement already satisfied: libclang>=9.0.1 in /home/dasneves/anaconda3/envs/tica_detector/lib/python3.8/site-packages (from tensorflow~=2.8.0->tf-models-official>=2.5.1->object-detection==0.1) (14.0.1)\n",
      "Requirement already satisfied: grpcio<2.0,>=1.24.3 in /home/dasneves/anaconda3/envs/tica_detector/lib/python3.8/site-packages (from tensorflow~=2.8.0->tf-models-official>=2.5.1->object-detection==0.1) (1.44.0)\n",
      "Requirement already satisfied: tensorflow-io-gcs-filesystem>=0.23.1 in /home/dasneves/anaconda3/envs/tica_detector/lib/python3.8/site-packages (from tensorflow~=2.8.0->tf-models-official>=2.5.1->object-detection==0.1) (0.25.0)\n",
      "Requirement already satisfied: flatbuffers>=1.12 in /home/dasneves/anaconda3/envs/tica_detector/lib/python3.8/site-packages (from tensorflow~=2.8.0->tf-models-official>=2.5.1->object-detection==0.1) (1.12)\n",
      "Requirement already satisfied: wrapt>=1.11.0 in /home/dasneves/anaconda3/envs/tica_detector/lib/python3.8/site-packages (from tensorflow~=2.8.0->tf-models-official>=2.5.1->object-detection==0.1) (1.14.0)\n",
      "Requirement already satisfied: gast>=0.2.1 in /home/dasneves/anaconda3/envs/tica_detector/lib/python3.8/site-packages (from tensorflow~=2.8.0->tf-models-official>=2.5.1->object-detection==0.1) (0.4.0)\n",
      "Requirement already satisfied: tensorboard<2.9,>=2.8 in /home/dasneves/anaconda3/envs/tica_detector/lib/python3.8/site-packages (from tensorflow~=2.8.0->tf-models-official>=2.5.1->object-detection==0.1) (2.8.0)\n",
      "Requirement already satisfied: wheel<1.0,>=0.23.0 in /home/dasneves/anaconda3/envs/tica_detector/lib/python3.8/site-packages (from astunparse>=1.6.0->tensorflow~=2.8.0->tf-models-official>=2.5.1->object-detection==0.1) (0.37.1)\n",
      "Requirement already satisfied: markdown>=2.6.8 in /home/dasneves/anaconda3/envs/tica_detector/lib/python3.8/site-packages (from tensorboard<2.9,>=2.8->tensorflow~=2.8.0->tf-models-official>=2.5.1->object-detection==0.1) (3.3.6)\n",
      "Requirement already satisfied: tensorboard-data-server<0.7.0,>=0.6.0 in /home/dasneves/anaconda3/envs/tica_detector/lib/python3.8/site-packages (from tensorboard<2.9,>=2.8->tensorflow~=2.8.0->tf-models-official>=2.5.1->object-detection==0.1) (0.6.1)\n",
      "Requirement already satisfied: werkzeug>=0.11.15 in /home/dasneves/anaconda3/envs/tica_detector/lib/python3.8/site-packages (from tensorboard<2.9,>=2.8->tensorflow~=2.8.0->tf-models-official>=2.5.1->object-detection==0.1) (2.1.1)\n",
      "Requirement already satisfied: tensorboard-plugin-wit>=1.6.0 in /home/dasneves/anaconda3/envs/tica_detector/lib/python3.8/site-packages (from tensorboard<2.9,>=2.8->tensorflow~=2.8.0->tf-models-official>=2.5.1->object-detection==0.1) (1.8.1)\n",
      "Requirement already satisfied: google-auth-oauthlib<0.5,>=0.4.1 in /home/dasneves/anaconda3/envs/tica_detector/lib/python3.8/site-packages (from tensorboard<2.9,>=2.8->tensorflow~=2.8.0->tf-models-official>=2.5.1->object-detection==0.1) (0.4.6)\n",
      "Requirement already satisfied: requests-oauthlib>=0.7.0 in /home/dasneves/anaconda3/envs/tica_detector/lib/python3.8/site-packages (from google-auth-oauthlib<0.5,>=0.4.1->tensorboard<2.9,>=2.8->tensorflow~=2.8.0->tf-models-official>=2.5.1->object-detection==0.1) (1.3.1)\n",
      "Requirement already satisfied: importlib-metadata>=4.4 in /home/dasneves/anaconda3/envs/tica_detector/lib/python3.8/site-packages (from markdown>=2.6.8->tensorboard<2.9,>=2.8->tensorflow~=2.8.0->tf-models-official>=2.5.1->object-detection==0.1) (4.11.3)\n",
      "Requirement already satisfied: zipp>=0.5 in /home/dasneves/anaconda3/envs/tica_detector/lib/python3.8/site-packages (from importlib-metadata>=4.4->markdown>=2.6.8->tensorboard<2.9,>=2.8->tensorflow~=2.8.0->tf-models-official>=2.5.1->object-detection==0.1) (3.8.0)\n"
     ]
    },
    {
     "name": "stdout",
     "output_type": "stream",
     "text": [
      "Requirement already satisfied: oauthlib>=3.0.0 in /home/dasneves/anaconda3/envs/tica_detector/lib/python3.8/site-packages (from requests-oauthlib>=0.7.0->google-auth-oauthlib<0.5,>=0.4.1->tensorboard<2.9,>=2.8->tensorflow~=2.8.0->tf-models-official>=2.5.1->object-detection==0.1) (3.2.0)\n",
      "Requirement already satisfied: dm-tree~=0.1.1 in /home/dasneves/anaconda3/envs/tica_detector/lib/python3.8/site-packages (from tensorflow-model-optimization>=0.4.1->tf-models-official>=2.5.1->object-detection==0.1) (0.1.7)\n",
      "Requirement already satisfied: pymongo<4.0.0,>=3.8.0 in /home/dasneves/anaconda3/envs/tica_detector/lib/python3.8/site-packages (from apache-beam->object-detection==0.1) (3.12.3)\n",
      "Requirement already satisfied: dill<0.3.2,>=0.3.1.1 in /home/dasneves/anaconda3/envs/tica_detector/lib/python3.8/site-packages (from apache-beam->object-detection==0.1) (0.3.1.1)\n",
      "Requirement already satisfied: crcmod<2.0,>=1.7 in /home/dasneves/anaconda3/envs/tica_detector/lib/python3.8/site-packages (from apache-beam->object-detection==0.1) (1.7)\n",
      "Requirement already satisfied: hdfs<3.0.0,>=2.1.0 in /home/dasneves/anaconda3/envs/tica_detector/lib/python3.8/site-packages (from apache-beam->object-detection==0.1) (2.7.0)\n",
      "Requirement already satisfied: proto-plus<2,>=1.7.1 in /home/dasneves/anaconda3/envs/tica_detector/lib/python3.8/site-packages (from apache-beam->object-detection==0.1) (1.20.3)\n",
      "Requirement already satisfied: fastavro<2,>=0.23.6 in /home/dasneves/anaconda3/envs/tica_detector/lib/python3.8/site-packages (from apache-beam->object-detection==0.1) (1.4.10)\n",
      "Requirement already satisfied: pydot<2,>=1.2.0 in /home/dasneves/anaconda3/envs/tica_detector/lib/python3.8/site-packages (from apache-beam->object-detection==0.1) (1.4.2)\n",
      "Requirement already satisfied: orjson<4.0 in /home/dasneves/anaconda3/envs/tica_detector/lib/python3.8/site-packages (from apache-beam->object-detection==0.1) (3.6.8)\n",
      "Requirement already satisfied: cloudpickle<3,>=2.0.0 in /home/dasneves/anaconda3/envs/tica_detector/lib/python3.8/site-packages (from apache-beam->object-detection==0.1) (2.0.0)\n",
      "Requirement already satisfied: pyarrow<7.0.0,>=0.15.1 in /home/dasneves/anaconda3/envs/tica_detector/lib/python3.8/site-packages (from apache-beam->object-detection==0.1) (6.0.1)\n",
      "Requirement already satisfied: docopt in /home/dasneves/anaconda3/envs/tica_detector/lib/python3.8/site-packages (from hdfs<3.0.0,>=2.1.0->apache-beam->object-detection==0.1) (0.6.2)\n",
      "Requirement already satisfied: opencv-python>=4.1.0.25 in /home/dasneves/anaconda3/envs/tica_detector/lib/python3.8/site-packages (from lvis->object-detection==0.1) (4.5.5.64)\n",
      "Requirement already satisfied: kiwisolver>=1.1.0 in /home/dasneves/anaconda3/envs/tica_detector/lib/python3.8/site-packages (from lvis->object-detection==0.1) (1.4.2)\n",
      "Requirement already satisfied: cycler>=0.10.0 in /home/dasneves/anaconda3/envs/tica_detector/lib/python3.8/site-packages (from lvis->object-detection==0.1) (0.11.0)\n",
      "Requirement already satisfied: fonttools>=4.22.0 in /home/dasneves/anaconda3/envs/tica_detector/lib/python3.8/site-packages (from matplotlib->object-detection==0.1) (4.33.2)\n",
      "Requirement already satisfied: packaging>=20.0 in /home/dasneves/anaconda3/envs/tica_detector/lib/python3.8/site-packages (from matplotlib->object-detection==0.1) (21.3)\n",
      "Requirement already satisfied: text-unidecode>=1.3 in /home/dasneves/anaconda3/envs/tica_detector/lib/python3.8/site-packages (from python-slugify->kaggle>=1.3.9->tf-models-official>=2.5.1->object-detection==0.1) (1.3)\n",
      "Requirement already satisfied: tabulate>=0.8.9 in /home/dasneves/anaconda3/envs/tica_detector/lib/python3.8/site-packages (from sacrebleu->tf-models-official>=2.5.1->object-detection==0.1) (0.8.9)\n",
      "Requirement already satisfied: portalocker in /home/dasneves/anaconda3/envs/tica_detector/lib/python3.8/site-packages (from sacrebleu->tf-models-official>=2.5.1->object-detection==0.1) (2.4.0)\n",
      "Requirement already satisfied: colorama in /home/dasneves/anaconda3/envs/tica_detector/lib/python3.8/site-packages (from sacrebleu->tf-models-official>=2.5.1->object-detection==0.1) (0.4.4)\n",
      "Requirement already satisfied: regex in /home/dasneves/anaconda3/envs/tica_detector/lib/python3.8/site-packages (from sacrebleu->tf-models-official>=2.5.1->object-detection==0.1) (2022.4.24)\n",
      "Requirement already satisfied: scikit-learn>=0.21.3 in /home/dasneves/anaconda3/envs/tica_detector/lib/python3.8/site-packages (from seqeval->tf-models-official>=2.5.1->object-detection==0.1) (1.0.2)\n",
      "Requirement already satisfied: joblib>=0.11 in /home/dasneves/anaconda3/envs/tica_detector/lib/python3.8/site-packages (from scikit-learn>=0.21.3->seqeval->tf-models-official>=2.5.1->object-detection==0.1) (1.1.0)\n",
      "Requirement already satisfied: threadpoolctl>=2.0.0 in /home/dasneves/anaconda3/envs/tica_detector/lib/python3.8/site-packages (from scikit-learn>=0.21.3->seqeval->tf-models-official>=2.5.1->object-detection==0.1) (3.1.0)\n",
      "Requirement already satisfied: typeguard>=2.7 in /home/dasneves/anaconda3/envs/tica_detector/lib/python3.8/site-packages (from tensorflow-addons->tf-models-official>=2.5.1->object-detection==0.1) (2.13.3)\n",
      "Requirement already satisfied: importlib-resources in /home/dasneves/anaconda3/envs/tica_detector/lib/python3.8/site-packages (from tensorflow-datasets->tf-models-official>=2.5.1->object-detection==0.1) (5.7.1)\n",
      "Requirement already satisfied: tensorflow-metadata in /home/dasneves/anaconda3/envs/tica_detector/lib/python3.8/site-packages (from tensorflow-datasets->tf-models-official>=2.5.1->object-detection==0.1) (1.7.0)\n",
      "Requirement already satisfied: promise in /home/dasneves/anaconda3/envs/tica_detector/lib/python3.8/site-packages (from tensorflow-datasets->tf-models-official>=2.5.1->object-detection==0.1) (2.3)\n",
      "Building wheels for collected packages: object-detection\n",
      "  Building wheel for object-detection (setup.py): started\n",
      "  Building wheel for object-detection (setup.py): finished with status 'done'\n",
      "  Created wheel for object-detection: filename=object_detection-0.1-py3-none-any.whl size=1691389 sha256=5743605cd3e38124a3bce601b8c8055cb977caad41bb8236d82360086ade2191\n",
      "  Stored in directory: /tmp/pip-ephem-wheel-cache-vv_bznod/wheels/64/9c/05/731861dc66f61a8040816be635e270e0d5d7978828cacd224d\n",
      "Successfully built object-detection\n",
      "Installing collected packages: object-detection\n",
      "  Attempting uninstall: object-detection\n",
      "    Found existing installation: object-detection 0.1\n",
      "    Uninstalling object-detection-0.1:\n",
      "      Successfully uninstalled object-detection-0.1\n",
      "Successfully installed object-detection-0.1\n"
     ]
    }
   ],
   "source": [
    "%%bash\n",
    "cd models/research \n",
    "protoc object_detection/protos/*.proto --python_out=.  \n",
    "export PYTHONPATH=$PYTHONPATH:`pwd`:`pwd`/slim  \n",
    "cp object_detection/packages/tf2/setup.py .  \n",
    "python -m pip install . "
   ]
  },
  {
   "cell_type": "code",
   "execution_count": 4,
   "metadata": {},
   "outputs": [
    {
     "name": "stdout",
     "output_type": "stream",
     "text": [
      "2022-04-25 16:45:09.930641: W tensorflow/stream_executor/platform/default/dso_loader.cc:64] Could not load dynamic library 'libcudart.so.11.0'; dlerror: libcudart.so.11.0: cannot open shared object file: No such file or directory\r\n",
      "2022-04-25 16:45:09.930665: I tensorflow/stream_executor/cuda/cudart_stub.cc:29] Ignore above cudart dlerror if you do not have a GPU set up on your machine.\r\n"
     ]
    }
   ],
   "source": [
    "# Checking if the test goes right\n",
    "!python models/research/object_detection/builders/model_builder_test.py"
   ]
  },
  {
   "cell_type": "markdown",
   "metadata": {},
   "source": [
    "Now, the next import should work..."
   ]
  },
  {
   "cell_type": "code",
   "execution_count": 5,
   "metadata": {},
   "outputs": [],
   "source": [
    "import object_detection"
   ]
  },
  {
   "cell_type": "markdown",
   "metadata": {},
   "source": [
    "# 1. Configuring the workspace"
   ]
  },
  {
   "cell_type": "markdown",
   "metadata": {},
   "source": [
    "It is interesting to work with the following structure, as cited in the tfod tutorial:\n",
    "```\n",
    "models \n",
    "    ├── annotations\n",
    "    |   └── xmls    \n",
    "    ├── images\n",
    "        └── train\n",
    "        └── test\n",
    "    ├── checkpoints\n",
    "    ├── tf_record\n",
    "    ├── research\n",
    "    ├── data\n",
    "    ...\n",
    "```"
   ]
  },
  {
   "cell_type": "code",
   "execution_count": 9,
   "metadata": {},
   "outputs": [],
   "source": [
    "# Creates the directories in the above schema\n",
    "dirs_to_create = ['annotations', 'images', 'checkpoints', 'tf_record', 'data']\n",
    "models_content = os.listdir('./models')\n",
    "\n",
    "for directory in dirs_to_create:\n",
    "    if directory not in models_content:\n",
    "        !cd models && mkdir {directory}\n",
    "        \n",
    "if 'xmls' not in os.listdir('./models/annotations'):\n",
    "    !cd models/annotations && mkdir xmls\n",
    "    \n",
    "for directory in ['train', 'test']:\n",
    "    if directory not in os.listdir('./models/images'):\n",
    "        !cd models/images && mkdir {directory}"
   ]
  },
  {
   "cell_type": "markdown",
   "metadata": {},
   "source": [
    "# 2. Collecting images\n",
    "\n",
    "This process, unfortunately, needs to be performed manually. Thus, not so much code for this section...\n",
    "\n",
    "**However**, it is important to note that the images need to be annotated (and in the jpg format)."
   ]
  },
  {
   "cell_type": "markdown",
   "metadata": {},
   "source": [
    "# 3. Converting XML files to CSV\n",
    "\n",
    "Now, copy the code in https://github.com/datitran/raccoon_dataset/blob/master/xml_to_csv.py and execute the following modification:\n",
    "\n",
    "```\n",
    "def main():\n",
    "    for directory in ['train', 'test']:\n",
    "        image_path = os.path.join(os.getcwd(), 'images/{}'.format(directory))\n",
    "        xml_df = xml_to_csv(image_path)\n",
    "        xml_df.to_csv('data/{}_labels.csv'.format(directory), index=None)\n",
    "        print('Successfully converted xml to csv.')\n",
    "```\n",
    "in the main function. Next, execute the cell below."
   ]
  },
  {
   "cell_type": "code",
   "execution_count": 10,
   "metadata": {},
   "outputs": [
    {
     "name": "stdout",
     "output_type": "stream",
     "text": [
      "Successfully converted xml to csv.\n",
      "Successfully converted xml to csv.\n"
     ]
    }
   ],
   "source": [
    "%%bash\n",
    "cd models\n",
    "python xml_to_csv.py"
   ]
  },
  {
   "cell_type": "markdown",
   "metadata": {},
   "source": [
    "# 4. CSV to TFRecords"
   ]
  },
  {
   "cell_type": "code",
   "execution_count": 16,
   "metadata": {},
   "outputs": [
    {
     "name": "stderr",
     "output_type": "stream",
     "text": [
      "2022-04-25 17:41:49.793217: W tensorflow/stream_executor/platform/default/dso_loader.cc:64] Could not load dynamic library 'libcudart.so.11.0'; dlerror: libcudart.so.11.0: cannot open shared object file: No such file or directory\n",
      "2022-04-25 17:41:49.793235: I tensorflow/stream_executor/cuda/cudart_stub.cc:29] Ignore above cudart dlerror if you do not have a GPU set up on your machine.\n",
      "2022-04-25 17:41:51.097849: E tensorflow/stream_executor/cuda/cuda_driver.cc:271] failed call to cuInit: CUDA_ERROR_NO_DEVICE: no CUDA-capable device is detected\n",
      "2022-04-25 17:41:51.097870: I tensorflow/stream_executor/cuda/cuda_diagnostics.cc:156] kernel driver does not appear to be running on this host (gabriel-ThinkPad-L13): /proc/driver/nvidia/version does not exist\n"
     ]
    },
    {
     "name": "stdout",
     "output_type": "stream",
     "text": [
      "Successfully created the TFRecords: /home/dasneves/Documents/python/tica_detector/models/train.record\n"
     ]
    },
    {
     "name": "stderr",
     "output_type": "stream",
     "text": [
      "2022-04-25 17:41:51.962616: W tensorflow/stream_executor/platform/default/dso_loader.cc:64] Could not load dynamic library 'libcudart.so.11.0'; dlerror: libcudart.so.11.0: cannot open shared object file: No such file or directory\n",
      "2022-04-25 17:41:51.962637: I tensorflow/stream_executor/cuda/cudart_stub.cc:29] Ignore above cudart dlerror if you do not have a GPU set up on your machine.\n",
      "2022-04-25 17:41:53.206983: E tensorflow/stream_executor/cuda/cuda_driver.cc:271] failed call to cuInit: CUDA_ERROR_NO_DEVICE: no CUDA-capable device is detected\n",
      "2022-04-25 17:41:53.207006: I tensorflow/stream_executor/cuda/cuda_diagnostics.cc:156] kernel driver does not appear to be running on this host (gabriel-ThinkPad-L13): /proc/driver/nvidia/version does not exist\n"
     ]
    },
    {
     "name": "stdout",
     "output_type": "stream",
     "text": [
      "Successfully created the TFRecords: /home/dasneves/Documents/python/tica_detector/models/test.record\n"
     ]
    }
   ],
   "source": [
    "%%bash\n",
    "cd models\n",
    "python generate_tfrecord.py --csv_input=data/train_labels.csv  --output_path=train.record --image_dir=images/train\n",
    "python generate_tfrecord.py --csv_input=data/test_labels.csv  --output_path=test.record --image_dir=images/test"
   ]
  },
  {
   "cell_type": "code",
   "execution_count": null,
   "metadata": {},
   "outputs": [],
   "source": []
  }
 ],
 "metadata": {
  "kernelspec": {
   "display_name": "tica_detector_venv",
   "language": "python",
   "name": "tica_detector_venv"
  },
  "language_info": {
   "codemirror_mode": {
    "name": "ipython",
    "version": 3
   },
   "file_extension": ".py",
   "mimetype": "text/x-python",
   "name": "python",
   "nbconvert_exporter": "python",
   "pygments_lexer": "ipython3",
   "version": "3.8.13"
  }
 },
 "nbformat": 4,
 "nbformat_minor": 2
}
